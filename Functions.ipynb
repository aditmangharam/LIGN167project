{
 "cells": [
  {
   "cell_type": "code",
   "execution_count": 64,
   "metadata": {
    "collapsed": true
   },
   "outputs": [],
   "source": [
    "import numpy as np\n",
    "import random\n",
    "import pandas as pd"
   ]
  },
  {
   "cell_type": "code",
   "execution_count": 65,
   "metadata": {
    "collapsed": true
   },
   "outputs": [],
   "source": [
    "def load_data(data_path):\n",
    "    temp_df = pd.read_csv(data_path)\n",
    "    df = temp_df[['line_text', 'speaker']]\n",
    "    return df"
   ]
  },
  {
   "cell_type": "code",
   "execution_count": 66,
   "metadata": {
    "collapsed": true
   },
   "outputs": [],
   "source": [
    "def split_test_train(data_df, percent):\n",
    "    jim = data_df[data_df['speaker'] == \"jim\"]\n",
    "    michael = data_df[data_df['speaker'] == \"michael\"]\n",
    "    dwight = data_df[data_df['speaker'] == \"dwight\"]\n",
    "    pam = data_df[data_df['speaker'] == \"pam\"]\n",
    "    andy = data_df[data_df['speaker'] == \"andy\"]\n",
    "    jim_data = jim.values\n",
    "    michael_data = michael.values\n",
    "    dwight_data = dwight.values\n",
    "    pam_data = pam.values\n",
    "    andy_data = andy.values\n",
    "    \n",
    "    all_data = [jim_data, michael_data, dwight_data, pam_data, andy_data]\n",
    "    train, test = [], []\n",
    "    for data in all_data:\n",
    "        random.shuffle(data)\n",
    "        size = int(len(data) * percent)\n",
    "        train.extend(data[:size])\n",
    "        test.extend(data[size+1:])\n",
    "    \n",
    "    random.shuffle(train)\n",
    "    random.shuffle(test)\n",
    "    return train, test"
   ]
  },
  {
   "cell_type": "code",
   "execution_count": 67,
   "metadata": {},
   "outputs": [],
   "source": [
    "def split_input_output(data):\n",
    "    input_data = []\n",
    "    output = []\n",
    "    for array in data:\n",
    "        input_data.append(array[0])\n",
    "        output.append(array[1])\n",
    "    return input_data, output"
   ]
  },
  {
   "cell_type": "code",
   "execution_count": 68,
   "metadata": {
    "scrolled": true
   },
   "outputs": [
    {
     "name": "stdout",
     "output_type": "stream",
     "text": [
      "27169 27169\n",
      "6789 6789\n"
     ]
    }
   ],
   "source": [
    "df = load_data(\"./cleandata.csv\")\n",
    "train, test = split_test_train(df, 0.8)   #returns a list of ndarrays\n",
    "train_x, train_y = split_input_output(train)\n",
    "test_x, test_y = split_input_output(test)\n",
    "print(len(train_x), len(train_y))\n",
    "print(len(test_x), len(test_y))"
   ]
  },
  {
   "cell_type": "code",
   "execution_count": null,
   "metadata": {
    "collapsed": true
   },
   "outputs": [],
   "source": []
  }
 ],
 "metadata": {
  "kernelspec": {
   "display_name": "Python 3",
   "language": "python",
   "name": "python3"
  },
  "language_info": {
   "codemirror_mode": {
    "name": "ipython",
    "version": 3
   },
   "file_extension": ".py",
   "mimetype": "text/x-python",
   "name": "python",
   "nbconvert_exporter": "python",
   "pygments_lexer": "ipython3",
   "version": "3.6.3"
  }
 },
 "nbformat": 4,
 "nbformat_minor": 2
}
