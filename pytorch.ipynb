{
 "cells": [
  {
   "cell_type": "markdown",
   "metadata": {},
   "source": [
    "# Imports"
   ]
  },
  {
   "cell_type": "code",
   "execution_count": null,
   "metadata": {},
   "outputs": [],
   "source": [
    "import nbimporter\n",
    "import Functions\n",
    "import numpy as np\n",
    "import pandas as pd\n",
    "import re"
   ]
  },
  {
   "cell_type": "code",
   "execution_count": 174,
   "metadata": {},
   "outputs": [
    {
     "data": {
      "text/html": [
       "<div>\n",
       "<style scoped>\n",
       "    .dataframe tbody tr th:only-of-type {\n",
       "        vertical-align: middle;\n",
       "    }\n",
       "\n",
       "    .dataframe tbody tr th {\n",
       "        vertical-align: top;\n",
       "    }\n",
       "\n",
       "    .dataframe thead th {\n",
       "        text-align: right;\n",
       "    }\n",
       "</style>\n",
       "<table border=\"1\" class=\"dataframe\">\n",
       "  <thead>\n",
       "    <tr style=\"text-align: right;\">\n",
       "      <th></th>\n",
       "      <th>line_text</th>\n",
       "      <th>speaker</th>\n",
       "    </tr>\n",
       "  </thead>\n",
       "  <tbody>\n",
       "    <tr>\n",
       "      <th>0</th>\n",
       "      <td>All right Jim. Your quarterlies look very good...</td>\n",
       "      <td>michael</td>\n",
       "    </tr>\n",
       "    <tr>\n",
       "      <th>1</th>\n",
       "      <td>Oh, I told you. I couldn't close it. So...</td>\n",
       "      <td>jim</td>\n",
       "    </tr>\n",
       "    <tr>\n",
       "      <th>2</th>\n",
       "      <td>So you've come to the master for guidance? Is ...</td>\n",
       "      <td>michael</td>\n",
       "    </tr>\n",
       "    <tr>\n",
       "      <th>3</th>\n",
       "      <td>Actually, you called me in here, but yeah.</td>\n",
       "      <td>jim</td>\n",
       "    </tr>\n",
       "    <tr>\n",
       "      <th>4</th>\n",
       "      <td>All right. Well, let me show you how it's done.</td>\n",
       "      <td>michael</td>\n",
       "    </tr>\n",
       "  </tbody>\n",
       "</table>\n",
       "</div>"
      ],
      "text/plain": [
       "                                           line_text  speaker\n",
       "0  All right Jim. Your quarterlies look very good...  michael\n",
       "1         Oh, I told you. I couldn't close it. So...      jim\n",
       "2  So you've come to the master for guidance? Is ...  michael\n",
       "3         Actually, you called me in here, but yeah.      jim\n",
       "4    All right. Well, let me show you how it's done.  michael"
      ]
     },
     "execution_count": 174,
     "metadata": {},
     "output_type": "execute_result"
    }
   ],
   "source": [
    "data = Functions.load_data('cleandata.csv')\n",
    "data.head()"
   ]
  },
  {
   "cell_type": "markdown",
   "metadata": {},
   "source": [
    "# Convert sentences to GloVe"
   ]
  },
  {
   "cell_type": "code",
   "execution_count": 175,
   "metadata": {},
   "outputs": [],
   "source": [
    "# MOVE to functions\n",
    "def loadGloveModel(gloveFile):\n",
    "    print(\"Loading Glove Model\")\n",
    "    f = open(gloveFile,'r')\n",
    "    model = {}\n",
    "    for line in f:\n",
    "        splitLine = line.split()\n",
    "        word = splitLine[0]\n",
    "        embedding = np.array([float(val) for val in splitLine[1:]])\n",
    "        model[word] = embedding\n",
    "    print(\"Done.\",len(model),\" words loaded!\")\n",
    "    return model\n",
    "\n",
    "#https://stackoverflow.com/questions/37793118/load-pretrained-glove-vectors-in-python   "
   ]
  },
  {
   "cell_type": "code",
   "execution_count": 176,
   "metadata": {},
   "outputs": [
    {
     "name": "stdout",
     "output_type": "stream",
     "text": [
      "Loading Glove Model\n",
      "Done. 400000  words loaded!\n"
     ]
    }
   ],
   "source": [
    "glove = loadGloveModel('glove.6B.50d.txt')"
   ]
  },
  {
   "cell_type": "code",
   "execution_count": 177,
   "metadata": {},
   "outputs": [],
   "source": [
    "glovesentences = []\n",
    "text = data['line_text']\n",
    "for line in text:\n",
    "    glovewords = []\n",
    "    line = line.lower()\n",
    "    for word in line.split():\n",
    "        try:\n",
    "            rep = glove[word]\n",
    "        except:\n",
    "            rep = [0] * 50\n",
    "        glovewords.append(rep)\n",
    "    glovesentences.append(glovewords)"
   ]
  },
  {
   "cell_type": "code",
   "execution_count": 189,
   "metadata": {},
   "outputs": [
    {
     "data": {
      "text/html": [
       "<div>\n",
       "<style scoped>\n",
       "    .dataframe tbody tr th:only-of-type {\n",
       "        vertical-align: middle;\n",
       "    }\n",
       "\n",
       "    .dataframe tbody tr th {\n",
       "        vertical-align: top;\n",
       "    }\n",
       "\n",
       "    .dataframe thead th {\n",
       "        text-align: right;\n",
       "    }\n",
       "</style>\n",
       "<table border=\"1\" class=\"dataframe\">\n",
       "  <thead>\n",
       "    <tr style=\"text-align: right;\">\n",
       "      <th></th>\n",
       "      <th>line_text</th>\n",
       "      <th>speaker</th>\n",
       "      <th>glove</th>\n",
       "    </tr>\n",
       "  </thead>\n",
       "  <tbody>\n",
       "    <tr>\n",
       "      <th>0</th>\n",
       "      <td>all right jim . your quarterlies look very goo...</td>\n",
       "      <td>michael</td>\n",
       "      <td>[[0.19253, 0.10006, 0.063798, -0.087664, 0.522...</td>\n",
       "    </tr>\n",
       "    <tr>\n",
       "      <th>1</th>\n",
       "      <td>oh , i told you . i couldn't close it . so . . .</td>\n",
       "      <td>jim</td>\n",
       "      <td>[[0, 0, 0, 0, 0, 0, 0, 0, 0, 0, 0, 0, 0, 0, 0,...</td>\n",
       "    </tr>\n",
       "    <tr>\n",
       "      <th>2</th>\n",
       "      <td>so you've come to the master for guidance ? is...</td>\n",
       "      <td>michael</td>\n",
       "      <td>[[0.60308, -0.32024, 0.088857, -0.55176, 0.531...</td>\n",
       "    </tr>\n",
       "    <tr>\n",
       "      <th>3</th>\n",
       "      <td>actually , you called me in here , but yeah .</td>\n",
       "      <td>jim</td>\n",
       "      <td>[[0, 0, 0, 0, 0, 0, 0, 0, 0, 0, 0, 0, 0, 0, 0,...</td>\n",
       "    </tr>\n",
       "    <tr>\n",
       "      <th>4</th>\n",
       "      <td>all right . well , let me show you how it's do...</td>\n",
       "      <td>michael</td>\n",
       "      <td>[[0.19253, 0.10006, 0.063798, -0.087664, 0.522...</td>\n",
       "    </tr>\n",
       "  </tbody>\n",
       "</table>\n",
       "</div>"
      ],
      "text/plain": [
       "                                           line_text  speaker  \\\n",
       "0  all right jim . your quarterlies look very goo...  michael   \n",
       "1  oh , i told you . i couldn't close it . so . . .       jim   \n",
       "2  so you've come to the master for guidance ? is...  michael   \n",
       "3     actually , you called me in here , but yeah .       jim   \n",
       "4  all right . well , let me show you how it's do...  michael   \n",
       "\n",
       "                                               glove  \n",
       "0  [[0.19253, 0.10006, 0.063798, -0.087664, 0.522...  \n",
       "1  [[0, 0, 0, 0, 0, 0, 0, 0, 0, 0, 0, 0, 0, 0, 0,...  \n",
       "2  [[0.60308, -0.32024, 0.088857, -0.55176, 0.531...  \n",
       "3  [[0, 0, 0, 0, 0, 0, 0, 0, 0, 0, 0, 0, 0, 0, 0,...  \n",
       "4  [[0.19253, 0.10006, 0.063798, -0.087664, 0.522...  "
      ]
     },
     "execution_count": 189,
     "metadata": {},
     "output_type": "execute_result"
    }
   ],
   "source": [
    "data['glove'] = glovesentences\n",
    "data.head()"
   ]
  },
  {
   "cell_type": "code",
   "execution_count": 188,
   "metadata": {},
   "outputs": [
    {
     "data": {
      "text/html": [
       "<div>\n",
       "<style scoped>\n",
       "    .dataframe tbody tr th:only-of-type {\n",
       "        vertical-align: middle;\n",
       "    }\n",
       "\n",
       "    .dataframe tbody tr th {\n",
       "        vertical-align: top;\n",
       "    }\n",
       "\n",
       "    .dataframe thead th {\n",
       "        text-align: right;\n",
       "    }\n",
       "</style>\n",
       "<table border=\"1\" class=\"dataframe\">\n",
       "  <thead>\n",
       "    <tr style=\"text-align: right;\">\n",
       "      <th></th>\n",
       "      <th>line_text</th>\n",
       "      <th>speaker</th>\n",
       "      <th>glove</th>\n",
       "    </tr>\n",
       "  </thead>\n",
       "  <tbody>\n",
       "    <tr>\n",
       "      <th>0</th>\n",
       "      <td>all right jim . your quarterlies look very goo...</td>\n",
       "      <td>michael</td>\n",
       "      <td>[[0.19253, 0.10006, 0.063798, -0.087664, 0.522...</td>\n",
       "    </tr>\n",
       "    <tr>\n",
       "      <th>1</th>\n",
       "      <td>oh , i told you . i couldn't close it . so . . .</td>\n",
       "      <td>jim</td>\n",
       "      <td>[[0, 0, 0, 0, 0, 0, 0, 0, 0, 0, 0, 0, 0, 0, 0,...</td>\n",
       "    </tr>\n",
       "    <tr>\n",
       "      <th>2</th>\n",
       "      <td>so you've come to the master for guidance ? is...</td>\n",
       "      <td>michael</td>\n",
       "      <td>[[0.60308, -0.32024, 0.088857, -0.55176, 0.531...</td>\n",
       "    </tr>\n",
       "    <tr>\n",
       "      <th>3</th>\n",
       "      <td>actually , you called me in here , but yeah .</td>\n",
       "      <td>jim</td>\n",
       "      <td>[[0, 0, 0, 0, 0, 0, 0, 0, 0, 0, 0, 0, 0, 0, 0,...</td>\n",
       "    </tr>\n",
       "    <tr>\n",
       "      <th>4</th>\n",
       "      <td>all right . well , let me show you how it's do...</td>\n",
       "      <td>michael</td>\n",
       "      <td>[[0.19253, 0.10006, 0.063798, -0.087664, 0.522...</td>\n",
       "    </tr>\n",
       "  </tbody>\n",
       "</table>\n",
       "</div>"
      ],
      "text/plain": [
       "                                           line_text  speaker  \\\n",
       "0  all right jim . your quarterlies look very goo...  michael   \n",
       "1  oh , i told you . i couldn't close it . so . . .       jim   \n",
       "2  so you've come to the master for guidance ? is...  michael   \n",
       "3     actually , you called me in here , but yeah .       jim   \n",
       "4  all right . well , let me show you how it's do...  michael   \n",
       "\n",
       "                                               glove  \n",
       "0  [[0.19253, 0.10006, 0.063798, -0.087664, 0.522...  \n",
       "1  [[0, 0, 0, 0, 0, 0, 0, 0, 0, 0, 0, 0, 0, 0, 0,...  \n",
       "2  [[0.60308, -0.32024, 0.088857, -0.55176, 0.531...  \n",
       "3  [[0, 0, 0, 0, 0, 0, 0, 0, 0, 0, 0, 0, 0, 0, 0,...  \n",
       "4  [[0.19253, 0.10006, 0.063798, -0.087664, 0.522...  "
      ]
     },
     "execution_count": 188,
     "metadata": {},
     "output_type": "execute_result"
    }
   ],
   "source": [
    "# MOVE TO CLEAN\n",
    "data['line_text'] = data['line_text'].str.replace(\"[\\(\\[].*?[\\)\\]]\", \"\")\n",
    "data['line_text'] = data['line_text'].str.replace('([.,!?()])', r' \\1 ')\n",
    "data['line_text'] = data['line_text'].str.replace('\\s{2,}', ' ')\n",
    "data['line_text'] = data['line_text'].str.lower()\n",
    "data.head()"
   ]
  },
  {
   "cell_type": "markdown",
   "metadata": {},
   "source": [
    "# Feed GloVe representations to Transformer"
   ]
  },
  {
   "cell_type": "code",
   "execution_count": null,
   "metadata": {},
   "outputs": [],
   "source": []
  }
 ],
 "metadata": {
  "kernelspec": {
   "display_name": "Python 3",
   "language": "python",
   "name": "python3"
  },
  "language_info": {
   "codemirror_mode": {
    "name": "ipython",
    "version": 3
   },
   "file_extension": ".py",
   "mimetype": "text/x-python",
   "name": "python",
   "nbconvert_exporter": "python",
   "pygments_lexer": "ipython3",
   "version": "3.7.3"
  }
 },
 "nbformat": 4,
 "nbformat_minor": 2
}
