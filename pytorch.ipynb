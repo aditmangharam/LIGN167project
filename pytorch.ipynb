{
 "cells": [
  {
   "cell_type": "markdown",
   "metadata": {},
   "source": [
    "# Imports"
   ]
  },
  {
   "cell_type": "code",
   "execution_count": 1,
   "metadata": {},
   "outputs": [
    {
     "name": "stdout",
     "output_type": "stream",
     "text": [
      "Importing Jupyter notebook from Functions.ipynb\n"
     ]
    }
   ],
   "source": [
    "import nbimporter\n",
    "import Functions\n",
    "import numpy as np\n",
    "import pandas as pd\n",
    "import re"
   ]
  },
  {
   "cell_type": "code",
   "execution_count": 2,
   "metadata": {},
   "outputs": [
    {
     "data": {
      "text/html": [
       "<div>\n",
       "<style scoped>\n",
       "    .dataframe tbody tr th:only-of-type {\n",
       "        vertical-align: middle;\n",
       "    }\n",
       "\n",
       "    .dataframe tbody tr th {\n",
       "        vertical-align: top;\n",
       "    }\n",
       "\n",
       "    .dataframe thead th {\n",
       "        text-align: right;\n",
       "    }\n",
       "</style>\n",
       "<table border=\"1\" class=\"dataframe\">\n",
       "  <thead>\n",
       "    <tr style=\"text-align: right;\">\n",
       "      <th></th>\n",
       "      <th>id</th>\n",
       "      <th>label</th>\n",
       "      <th>alpha</th>\n",
       "      <th>text</th>\n",
       "    </tr>\n",
       "  </thead>\n",
       "  <tbody>\n",
       "    <tr>\n",
       "      <th>0</th>\n",
       "      <td>0</td>\n",
       "      <td>3</td>\n",
       "      <td>a</td>\n",
       "      <td>all right jim . your quarterlies look very goo...</td>\n",
       "    </tr>\n",
       "    <tr>\n",
       "      <th>1</th>\n",
       "      <td>1</td>\n",
       "      <td>2</td>\n",
       "      <td>a</td>\n",
       "      <td>oh , i told you . i couldn't close it . so . . .</td>\n",
       "    </tr>\n",
       "    <tr>\n",
       "      <th>2</th>\n",
       "      <td>2</td>\n",
       "      <td>3</td>\n",
       "      <td>a</td>\n",
       "      <td>so you've come to the master for guidance ? is...</td>\n",
       "    </tr>\n",
       "    <tr>\n",
       "      <th>3</th>\n",
       "      <td>3</td>\n",
       "      <td>2</td>\n",
       "      <td>a</td>\n",
       "      <td>actually , you called me in here , but yeah .</td>\n",
       "    </tr>\n",
       "    <tr>\n",
       "      <th>4</th>\n",
       "      <td>4</td>\n",
       "      <td>3</td>\n",
       "      <td>a</td>\n",
       "      <td>all right . well , let me show you how it's do...</td>\n",
       "    </tr>\n",
       "  </tbody>\n",
       "</table>\n",
       "</div>"
      ],
      "text/plain": [
       "   id  label alpha                                               text\n",
       "0   0      3     a  all right jim . your quarterlies look very goo...\n",
       "1   1      2     a  oh , i told you . i couldn't close it . so . . . \n",
       "2   2      3     a  so you've come to the master for guidance ? is...\n",
       "3   3      2     a     actually , you called me in here , but yeah . \n",
       "4   4      3     a  all right . well , let me show you how it's do..."
      ]
     },
     "execution_count": 2,
     "metadata": {},
     "output_type": "execute_result"
    }
   ],
   "source": [
    "data = pd.read_csv('bert_form_data.tsv', sep='\\t')\n",
    "data.head()"
   ]
  },
  {
   "cell_type": "markdown",
   "metadata": {},
   "source": [
    "# Convert sentences to GloVe"
   ]
  },
  {
   "cell_type": "code",
   "execution_count": 3,
   "metadata": {},
   "outputs": [
    {
     "name": "stdout",
     "output_type": "stream",
     "text": [
      "Loading Glove Model\n",
      "Done. 400000  words loaded!\n"
     ]
    }
   ],
   "source": [
    "glove = Functions.loadGloveModel('glove.6B.50d.txt')"
   ]
  },
  {
   "cell_type": "code",
   "execution_count": 4,
   "metadata": {},
   "outputs": [],
   "source": [
    "glovesentences = []\n",
    "text = data['text']\n",
    "for line in text:\n",
    "    glovewords = []\n",
    "    line = line.lower()\n",
    "    for word in line.split():\n",
    "        try:\n",
    "            rep = glove[word]\n",
    "        except:\n",
    "            rep = [0] * 50\n",
    "        glovewords.append(rep)\n",
    "    glovesentences.append(glovewords)"
   ]
  },
  {
   "cell_type": "code",
   "execution_count": 5,
   "metadata": {},
   "outputs": [
    {
     "data": {
      "text/html": [
       "<div>\n",
       "<style scoped>\n",
       "    .dataframe tbody tr th:only-of-type {\n",
       "        vertical-align: middle;\n",
       "    }\n",
       "\n",
       "    .dataframe tbody tr th {\n",
       "        vertical-align: top;\n",
       "    }\n",
       "\n",
       "    .dataframe thead th {\n",
       "        text-align: right;\n",
       "    }\n",
       "</style>\n",
       "<table border=\"1\" class=\"dataframe\">\n",
       "  <thead>\n",
       "    <tr style=\"text-align: right;\">\n",
       "      <th></th>\n",
       "      <th>label</th>\n",
       "      <th>text</th>\n",
       "      <th>glove</th>\n",
       "      <th>0</th>\n",
       "      <th>1</th>\n",
       "      <th>2</th>\n",
       "      <th>3</th>\n",
       "      <th>4</th>\n",
       "    </tr>\n",
       "  </thead>\n",
       "  <tbody>\n",
       "    <tr>\n",
       "      <th>0</th>\n",
       "      <td>3</td>\n",
       "      <td>all right jim . your quarterlies look very goo...</td>\n",
       "      <td>[[0.19253, 0.10006, 0.063798, -0.087664, 0.522...</td>\n",
       "      <td>0</td>\n",
       "      <td>0</td>\n",
       "      <td>0</td>\n",
       "      <td>1</td>\n",
       "      <td>0</td>\n",
       "    </tr>\n",
       "    <tr>\n",
       "      <th>1</th>\n",
       "      <td>2</td>\n",
       "      <td>oh , i told you . i couldn't close it . so . . .</td>\n",
       "      <td>[[-0.070292, 1.6078, 0.64854, -0.4591, -0.1615...</td>\n",
       "      <td>0</td>\n",
       "      <td>0</td>\n",
       "      <td>1</td>\n",
       "      <td>0</td>\n",
       "      <td>0</td>\n",
       "    </tr>\n",
       "    <tr>\n",
       "      <th>2</th>\n",
       "      <td>3</td>\n",
       "      <td>so you've come to the master for guidance ? is...</td>\n",
       "      <td>[[0.60308, -0.32024, 0.088857, -0.55176, 0.531...</td>\n",
       "      <td>0</td>\n",
       "      <td>0</td>\n",
       "      <td>0</td>\n",
       "      <td>1</td>\n",
       "      <td>0</td>\n",
       "    </tr>\n",
       "    <tr>\n",
       "      <th>3</th>\n",
       "      <td>2</td>\n",
       "      <td>actually , you called me in here , but yeah .</td>\n",
       "      <td>[[0.42079, -0.12738, 0.36681, -0.57293, 0.7336...</td>\n",
       "      <td>0</td>\n",
       "      <td>0</td>\n",
       "      <td>1</td>\n",
       "      <td>0</td>\n",
       "      <td>0</td>\n",
       "    </tr>\n",
       "    <tr>\n",
       "      <th>4</th>\n",
       "      <td>3</td>\n",
       "      <td>all right . well , let me show you how it's do...</td>\n",
       "      <td>[[0.19253, 0.10006, 0.063798, -0.087664, 0.522...</td>\n",
       "      <td>0</td>\n",
       "      <td>0</td>\n",
       "      <td>0</td>\n",
       "      <td>1</td>\n",
       "      <td>0</td>\n",
       "    </tr>\n",
       "  </tbody>\n",
       "</table>\n",
       "</div>"
      ],
      "text/plain": [
       "   label                                               text  \\\n",
       "0      3  all right jim . your quarterlies look very goo...   \n",
       "1      2  oh , i told you . i couldn't close it . so . . .    \n",
       "2      3  so you've come to the master for guidance ? is...   \n",
       "3      2     actually , you called me in here , but yeah .    \n",
       "4      3  all right . well , let me show you how it's do...   \n",
       "\n",
       "                                               glove  0  1  2  3  4  \n",
       "0  [[0.19253, 0.10006, 0.063798, -0.087664, 0.522...  0  0  0  1  0  \n",
       "1  [[-0.070292, 1.6078, 0.64854, -0.4591, -0.1615...  0  0  1  0  0  \n",
       "2  [[0.60308, -0.32024, 0.088857, -0.55176, 0.531...  0  0  0  1  0  \n",
       "3  [[0.42079, -0.12738, 0.36681, -0.57293, 0.7336...  0  0  1  0  0  \n",
       "4  [[0.19253, 0.10006, 0.063798, -0.087664, 0.522...  0  0  0  1  0  "
      ]
     },
     "execution_count": 5,
     "metadata": {},
     "output_type": "execute_result"
    }
   ],
   "source": [
    "data['glove'] = glovesentences\n",
    "hotmatrix = pd.get_dummies(data['label'])\n",
    "cleaned = data[['label', 'text', 'glove']]\n",
    "cleaned = pd.concat([cleaned.reset_index(drop=True),hotmatrix.reset_index(drop=True)], axis=1)\n",
    "cleaned.head()"
   ]
  },
  {
   "cell_type": "markdown",
   "metadata": {},
   "source": [
    "# Split train and test sets"
   ]
  },
  {
   "cell_type": "code",
   "execution_count": 6,
   "metadata": {},
   "outputs": [
    {
     "name": "stdout",
     "output_type": "stream",
     "text": [
      "Andy size: 3897\n",
      "Dwight size: 7030\n",
      "Jim size: 6531\n",
      "Michael size: 11179\n",
      "Pam size: 5155\n",
      "total size: 33792\n"
     ]
    }
   ],
   "source": [
    "andy = cleaned.loc[cleaned['label'] == 0]\n",
    "dwight = cleaned.loc[cleaned['label'] == 1]\n",
    "jim = cleaned.loc[cleaned['label'] == 2]\n",
    "michael = cleaned.loc[cleaned['label'] == 3]\n",
    "pam = cleaned.loc[cleaned['label'] == 4]\n",
    "print(\"Andy size: \" + str(len(andy)))\n",
    "print(\"Dwight size: \" + str(len(dwight)))\n",
    "print(\"Jim size: \" + str(len(jim)))\n",
    "print(\"Michael size: \" + str(len(michael)))\n",
    "print(\"Pam size: \" + str(len(pam)))\n",
    "print(\"total size: \" + str(len(andy) + len(dwight) + len(jim) + len(michael) + len(pam)))"
   ]
  },
  {
   "cell_type": "code",
   "execution_count": 7,
   "metadata": {},
   "outputs": [],
   "source": [
    "msk = np.random.rand(len(andy)) < 0.8\n",
    "atrain = andy[msk]\n",
    "atest = andy[~msk]\n",
    "\n",
    "msk = np.random.rand(len(dwight)) < 0.8\n",
    "dtrain = dwight[msk]\n",
    "dtest = dwight[~msk]\n",
    "\n",
    "msk = np.random.rand(len(jim)) < 0.8\n",
    "jtrain = jim[msk]\n",
    "jtest = jim[~msk]\n",
    "\n",
    "msk = np.random.rand(len(michael)) < 0.8\n",
    "mtrain = michael[msk]\n",
    "mtest = michael[~msk]\n",
    "\n",
    "msk = np.random.rand(len(pam)) < 0.8\n",
    "ptrain = pam[msk]\n",
    "ptest = pam[~msk]"
   ]
  },
  {
   "cell_type": "code",
   "execution_count": 8,
   "metadata": {},
   "outputs": [
    {
     "name": "stdout",
     "output_type": "stream",
     "text": [
      "33792\n"
     ]
    }
   ],
   "source": [
    "testframes = [atest, dtest, jtest, mtest, ptest]\n",
    "test = pd.concat(testframes)\n",
    "\n",
    "trainframes = [atrain, dtrain, jtrain, mtrain, ptrain]\n",
    "train = pd.concat(trainframes)\n",
    "\n",
    "print(str(len(test) + len(train)))"
   ]
  },
  {
   "cell_type": "code",
   "execution_count": 9,
   "metadata": {},
   "outputs": [
    {
     "data": {
      "text/html": [
       "<div>\n",
       "<style scoped>\n",
       "    .dataframe tbody tr th:only-of-type {\n",
       "        vertical-align: middle;\n",
       "    }\n",
       "\n",
       "    .dataframe tbody tr th {\n",
       "        vertical-align: top;\n",
       "    }\n",
       "\n",
       "    .dataframe thead th {\n",
       "        text-align: right;\n",
       "    }\n",
       "</style>\n",
       "<table border=\"1\" class=\"dataframe\">\n",
       "  <thead>\n",
       "    <tr style=\"text-align: right;\">\n",
       "      <th></th>\n",
       "      <th>label</th>\n",
       "      <th>text</th>\n",
       "      <th>glove</th>\n",
       "      <th>0</th>\n",
       "      <th>1</th>\n",
       "      <th>2</th>\n",
       "      <th>3</th>\n",
       "      <th>4</th>\n",
       "    </tr>\n",
       "  </thead>\n",
       "  <tbody>\n",
       "    <tr>\n",
       "      <th>5240</th>\n",
       "      <td>0</td>\n",
       "      <td>hey , big tuna . you ever google google ? what...</td>\n",
       "      <td>[[-0.7001, 0.36781, 0.34424, -0.42318, -0.0460...</td>\n",
       "      <td>1</td>\n",
       "      <td>0</td>\n",
       "      <td>0</td>\n",
       "      <td>0</td>\n",
       "      <td>0</td>\n",
       "    </tr>\n",
       "    <tr>\n",
       "      <th>5544</th>\n",
       "      <td>0</td>\n",
       "      <td>are you playing for the other team ? !</td>\n",
       "      <td>[[0.96193, 0.012516, 0.21733, -0.06539, 0.2684...</td>\n",
       "      <td>1</td>\n",
       "      <td>0</td>\n",
       "      <td>0</td>\n",
       "      <td>0</td>\n",
       "      <td>0</td>\n",
       "    </tr>\n",
       "    <tr>\n",
       "      <th>5546</th>\n",
       "      <td>0</td>\n",
       "      <td>saboteur ! i'm going to kill you for real . th...</td>\n",
       "      <td>[[0.54062, -0.73204, -0.055612, -0.76395, 0.45...</td>\n",
       "      <td>1</td>\n",
       "      <td>0</td>\n",
       "      <td>0</td>\n",
       "      <td>0</td>\n",
       "      <td>0</td>\n",
       "    </tr>\n",
       "    <tr>\n",
       "      <th>5910</th>\n",
       "      <td>0</td>\n",
       "      <td>i don't care 'bout anything but you . . . what...</td>\n",
       "      <td>[[0.11891, 0.15255, -0.082073, -0.74144, 0.759...</td>\n",
       "      <td>1</td>\n",
       "      <td>0</td>\n",
       "      <td>0</td>\n",
       "      <td>0</td>\n",
       "      <td>0</td>\n",
       "    </tr>\n",
       "    <tr>\n",
       "      <th>6068</th>\n",
       "      <td>0</td>\n",
       "      <td>seriously , you guys , ask me .</td>\n",
       "      <td>[[0.24542, -0.74245, 0.32527, -0.53353, 0.1379...</td>\n",
       "      <td>1</td>\n",
       "      <td>0</td>\n",
       "      <td>0</td>\n",
       "      <td>0</td>\n",
       "      <td>0</td>\n",
       "    </tr>\n",
       "  </tbody>\n",
       "</table>\n",
       "</div>"
      ],
      "text/plain": [
       "      label                                               text  \\\n",
       "5240      0  hey , big tuna . you ever google google ? what...   \n",
       "5544      0            are you playing for the other team ? !    \n",
       "5546      0  saboteur ! i'm going to kill you for real . th...   \n",
       "5910      0  i don't care 'bout anything but you . . . what...   \n",
       "6068      0                   seriously , you guys , ask me .    \n",
       "\n",
       "                                                  glove  0  1  2  3  4  \n",
       "5240  [[-0.7001, 0.36781, 0.34424, -0.42318, -0.0460...  1  0  0  0  0  \n",
       "5544  [[0.96193, 0.012516, 0.21733, -0.06539, 0.2684...  1  0  0  0  0  \n",
       "5546  [[0.54062, -0.73204, -0.055612, -0.76395, 0.45...  1  0  0  0  0  \n",
       "5910  [[0.11891, 0.15255, -0.082073, -0.74144, 0.759...  1  0  0  0  0  \n",
       "6068  [[0.24542, -0.74245, 0.32527, -0.53353, 0.1379...  1  0  0  0  0  "
      ]
     },
     "execution_count": 9,
     "metadata": {},
     "output_type": "execute_result"
    }
   ],
   "source": [
    "test.head()"
   ]
  },
  {
   "cell_type": "code",
   "execution_count": 10,
   "metadata": {},
   "outputs": [
    {
     "data": {
      "text/html": [
       "<div>\n",
       "<style scoped>\n",
       "    .dataframe tbody tr th:only-of-type {\n",
       "        vertical-align: middle;\n",
       "    }\n",
       "\n",
       "    .dataframe tbody tr th {\n",
       "        vertical-align: top;\n",
       "    }\n",
       "\n",
       "    .dataframe thead th {\n",
       "        text-align: right;\n",
       "    }\n",
       "</style>\n",
       "<table border=\"1\" class=\"dataframe\">\n",
       "  <thead>\n",
       "    <tr style=\"text-align: right;\">\n",
       "      <th></th>\n",
       "      <th>label</th>\n",
       "      <th>text</th>\n",
       "      <th>glove</th>\n",
       "      <th>0</th>\n",
       "      <th>1</th>\n",
       "      <th>2</th>\n",
       "      <th>3</th>\n",
       "      <th>4</th>\n",
       "    </tr>\n",
       "  </thead>\n",
       "  <tbody>\n",
       "    <tr>\n",
       "      <th>5157</th>\n",
       "      <td>0</td>\n",
       "      <td>hey , big tuna ! you're single right ?</td>\n",
       "      <td>[[-0.7001, 0.36781, 0.34424, -0.42318, -0.0460...</td>\n",
       "      <td>1</td>\n",
       "      <td>0</td>\n",
       "      <td>0</td>\n",
       "      <td>0</td>\n",
       "      <td>0</td>\n",
       "    </tr>\n",
       "    <tr>\n",
       "      <th>5159</th>\n",
       "      <td>0</td>\n",
       "      <td>she's pretty hot huh ? she's completely crazy ...</td>\n",
       "      <td>[[0, 0, 0, 0, 0, 0, 0, 0, 0, 0, 0, 0, 0, 0, 0,...</td>\n",
       "      <td>1</td>\n",
       "      <td>0</td>\n",
       "      <td>0</td>\n",
       "      <td>0</td>\n",
       "      <td>0</td>\n",
       "    </tr>\n",
       "    <tr>\n",
       "      <th>5161</th>\n",
       "      <td>0</td>\n",
       "      <td>ooook .</td>\n",
       "      <td>[[0, 0, 0, 0, 0, 0, 0, 0, 0, 0, 0, 0, 0, 0, 0,...</td>\n",
       "      <td>1</td>\n",
       "      <td>0</td>\n",
       "      <td>0</td>\n",
       "      <td>0</td>\n",
       "      <td>0</td>\n",
       "    </tr>\n",
       "    <tr>\n",
       "      <th>5188</th>\n",
       "      <td>0</td>\n",
       "      <td>ok . who put my calculator in jello ? good one...</td>\n",
       "      <td>[[-0.53646, -0.072432, 0.24182, 0.099021, 0.18...</td>\n",
       "      <td>1</td>\n",
       "      <td>0</td>\n",
       "      <td>0</td>\n",
       "      <td>0</td>\n",
       "      <td>0</td>\n",
       "    </tr>\n",
       "    <tr>\n",
       "      <th>5243</th>\n",
       "      <td>0</td>\n",
       "      <td>i didn't mean you should do it . you were supp...</td>\n",
       "      <td>[[0.11891, 0.15255, -0.082073, -0.74144, 0.759...</td>\n",
       "      <td>1</td>\n",
       "      <td>0</td>\n",
       "      <td>0</td>\n",
       "      <td>0</td>\n",
       "      <td>0</td>\n",
       "    </tr>\n",
       "  </tbody>\n",
       "</table>\n",
       "</div>"
      ],
      "text/plain": [
       "      label                                               text  \\\n",
       "5157      0            hey , big tuna ! you're single right ?    \n",
       "5159      0  she's pretty hot huh ? she's completely crazy ...   \n",
       "5161      0                                           ooook .    \n",
       "5188      0  ok . who put my calculator in jello ? good one...   \n",
       "5243      0  i didn't mean you should do it . you were supp...   \n",
       "\n",
       "                                                  glove  0  1  2  3  4  \n",
       "5157  [[-0.7001, 0.36781, 0.34424, -0.42318, -0.0460...  1  0  0  0  0  \n",
       "5159  [[0, 0, 0, 0, 0, 0, 0, 0, 0, 0, 0, 0, 0, 0, 0,...  1  0  0  0  0  \n",
       "5161  [[0, 0, 0, 0, 0, 0, 0, 0, 0, 0, 0, 0, 0, 0, 0,...  1  0  0  0  0  \n",
       "5188  [[-0.53646, -0.072432, 0.24182, 0.099021, 0.18...  1  0  0  0  0  \n",
       "5243  [[0.11891, 0.15255, -0.082073, -0.74144, 0.759...  1  0  0  0  0  "
      ]
     },
     "execution_count": 10,
     "metadata": {},
     "output_type": "execute_result"
    }
   ],
   "source": [
    "train.head()"
   ]
  },
  {
   "cell_type": "code",
   "execution_count": null,
   "metadata": {},
   "outputs": [],
   "source": []
  }
 ],
 "metadata": {
  "kernelspec": {
   "display_name": "Python 3",
   "language": "python",
   "name": "python3"
  },
  "language_info": {
   "codemirror_mode": {
    "name": "ipython",
    "version": 3
   },
   "file_extension": ".py",
   "mimetype": "text/x-python",
   "name": "python",
   "nbconvert_exporter": "python",
   "pygments_lexer": "ipython3",
   "version": "3.7.3"
  }
 },
 "nbformat": 4,
 "nbformat_minor": 2
}
